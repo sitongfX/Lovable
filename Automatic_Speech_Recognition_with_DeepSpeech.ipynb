{
  "nbformat": 4,
  "nbformat_minor": 0,
  "metadata": {
    "colab": {
      "name": "Automatic Speech Recognition with DeepSpeech",
      "provenance": [],
      "collapsed_sections": []
    },
    "kernelspec": {
      "name": "python3",
      "display_name": "Python 3"
    },
    "accelerator": "GPU"
  },
  "cells": [
    {
      "cell_type": "markdown",
      "metadata": {
        "id": "9ol3xVNL6gy3"
      },
      "source": [
        "# Record audio from your microphone"
      ]
    },
    {
      "cell_type": "code",
      "metadata": {
        "id": "xuKJ4wBU6gxx",
        "colab": {
          "base_uri": "https://localhost:8080/"
        },
        "outputId": "ef31d9a2-327c-45e4-fb5d-f341e4250637"
      },
      "source": [
        "!pip install ffmpeg-python"
      ],
      "execution_count": null,
      "outputs": [
        {
          "output_type": "stream",
          "name": "stdout",
          "text": [
            "Requirement already satisfied: ffmpeg-python in /usr/local/lib/python3.7/dist-packages (0.2.0)\n",
            "Requirement already satisfied: future in /usr/local/lib/python3.7/dist-packages (from ffmpeg-python) (0.16.0)\n"
          ]
        }
      ]
    },
    {
      "cell_type": "code",
      "metadata": {
        "id": "RtMcXr3o6gxN"
      },
      "source": [
        "\"\"\"\n",
        "To write this piece of code I took inspiration/code from a lot of places.\n",
        "It was late night, so I'm not sure how much I created or just copied o.O\n",
        "Here are some of the possible references:\n",
        "https://blog.addpipe.com/recording-audio-in-the-browser-using-pure-html5-and-minimal-javascript/\n",
        "https://stackoverflow.com/a/18650249\n",
        "https://hacks.mozilla.org/2014/06/easy-audio-capture-with-the-mediarecorder-api/\n",
        "https://air.ghost.io/recording-to-an-audio-file-using-html5-and-js/\n",
        "https://stackoverflow.com/a/49019356\n",
        "\"\"\"\n",
        "from IPython.display import HTML, Audio\n",
        "from google.colab.output import eval_js\n",
        "from base64 import b64decode\n",
        "import numpy as np\n",
        "from scipy.io.wavfile import read as wav_read\n",
        "import io\n",
        "import ffmpeg\n",
        "\n",
        "AUDIO_HTML = \"\"\"\n",
        "<script>\n",
        "var my_div = document.createElement(\"DIV\");\n",
        "var my_p = document.createElement(\"P\");\n",
        "var my_btn = document.createElement(\"BUTTON\");\n",
        "var t = document.createTextNode(\"Press to start recording\");\n",
        "\n",
        "my_btn.appendChild(t);\n",
        "//my_p.appendChild(my_btn);\n",
        "my_div.appendChild(my_btn);\n",
        "document.body.appendChild(my_div);\n",
        "\n",
        "var base64data = 0;\n",
        "var reader;\n",
        "var recorder, gumStream;\n",
        "var recordButton = my_btn;\n",
        "\n",
        "var handleSuccess = function(stream) {\n",
        "  gumStream = stream;\n",
        "  var options = {\n",
        "    //bitsPerSecond: 8000, //chrome seems to ignore, always 48k\n",
        "    mimeType : 'audio/webm;codecs=opus'\n",
        "    //mimeType : 'audio/webm;codecs=pcm'\n",
        "  };            \n",
        "  //recorder = new MediaRecorder(stream, options);\n",
        "  recorder = new MediaRecorder(stream);\n",
        "  recorder.ondataavailable = function(e) {            \n",
        "    var url = URL.createObjectURL(e.data);\n",
        "    var preview = document.createElement('audio');\n",
        "    preview.controls = true;\n",
        "    preview.src = url;\n",
        "    document.body.appendChild(preview);\n",
        "\n",
        "    reader = new FileReader();\n",
        "    reader.readAsDataURL(e.data); \n",
        "    reader.onloadend = function() {\n",
        "      base64data = reader.result;\n",
        "      //console.log(\"Inside FileReader:\" + base64data);\n",
        "    }\n",
        "  };\n",
        "  recorder.start();\n",
        "  };\n",
        "\n",
        "recordButton.innerText = \"Recording... press to stop\";\n",
        "\n",
        "navigator.mediaDevices.getUserMedia({audio: true}).then(handleSuccess);\n",
        "\n",
        "\n",
        "function toggleRecording() {\n",
        "  if (recorder && recorder.state == \"recording\") {\n",
        "      recorder.stop();\n",
        "      gumStream.getAudioTracks()[0].stop();\n",
        "      recordButton.innerText = \"Saving the recording... pls wait!\"\n",
        "  }\n",
        "}\n",
        "\n",
        "// https://stackoverflow.com/a/951057\n",
        "function sleep(ms) {\n",
        "  return new Promise(resolve => setTimeout(resolve, ms));\n",
        "}\n",
        "\n",
        "var data = new Promise(resolve=>{\n",
        "//recordButton.addEventListener(\"click\", toggleRecording);\n",
        "recordButton.onclick = ()=>{\n",
        "toggleRecording()\n",
        "\n",
        "sleep(2000).then(() => {\n",
        "  // wait 2000ms for the data to be available...\n",
        "  // ideally this should use something like await...\n",
        "  //console.log(\"Inside data:\" + base64data)\n",
        "  resolve(base64data.toString())\n",
        "\n",
        "});\n",
        "\n",
        "}\n",
        "});\n",
        "      \n",
        "</script>\n",
        "\"\"\"\n",
        "\n",
        "def get_audio():\n",
        "  display(HTML(AUDIO_HTML))\n",
        "  data = eval_js(\"data\")\n",
        "  binary = b64decode(data.split(',')[1])\n",
        "  \n",
        "  process = (ffmpeg\n",
        "    .input('pipe:0')\n",
        "    .output('pipe:1', format='wav')\n",
        "    .run_async(pipe_stdin=True, pipe_stdout=True, pipe_stderr=True, quiet=True, overwrite_output=True)\n",
        "  )\n",
        "  output, err = process.communicate(input=binary)\n",
        "  \n",
        "  riff_chunk_size = len(output) - 8\n",
        "  # Break up the chunk size into four bytes, held in b.\n",
        "  q = riff_chunk_size\n",
        "  b = []\n",
        "  for i in range(4):\n",
        "      q, r = divmod(q, 256)\n",
        "      b.append(r)\n",
        "\n",
        "  # Replace bytes 4:8 in proc.stdout with the actual size of the RIFF chunk.\n",
        "  riff = output[:4] + bytes(b) + output[8:]\n",
        "\n",
        "  sr, audio = wav_read(io.BytesIO(riff))\n",
        "\n",
        "  return audio, sr"
      ],
      "execution_count": null,
      "outputs": []
    },
    {
      "cell_type": "code",
      "metadata": {
        "id": "57xW3GSb6gv0",
        "colab": {
          "base_uri": "https://localhost:8080/",
          "height": 96
        },
        "outputId": "494172b4-f573-43d7-8c78-2c86783cac87"
      },
      "source": [
        "audio, sr = get_audio()"
      ],
      "execution_count": null,
      "outputs": [
        {
          "output_type": "display_data",
          "data": {
            "text/plain": [
              "<IPython.core.display.HTML object>"
            ],
            "text/html": [
              "\n",
              "<script>\n",
              "var my_div = document.createElement(\"DIV\");\n",
              "var my_p = document.createElement(\"P\");\n",
              "var my_btn = document.createElement(\"BUTTON\");\n",
              "var t = document.createTextNode(\"Press to start recording\");\n",
              "\n",
              "my_btn.appendChild(t);\n",
              "//my_p.appendChild(my_btn);\n",
              "my_div.appendChild(my_btn);\n",
              "document.body.appendChild(my_div);\n",
              "\n",
              "var base64data = 0;\n",
              "var reader;\n",
              "var recorder, gumStream;\n",
              "var recordButton = my_btn;\n",
              "\n",
              "var handleSuccess = function(stream) {\n",
              "  gumStream = stream;\n",
              "  var options = {\n",
              "    //bitsPerSecond: 8000, //chrome seems to ignore, always 48k\n",
              "    mimeType : 'audio/webm;codecs=opus'\n",
              "    //mimeType : 'audio/webm;codecs=pcm'\n",
              "  };            \n",
              "  //recorder = new MediaRecorder(stream, options);\n",
              "  recorder = new MediaRecorder(stream);\n",
              "  recorder.ondataavailable = function(e) {            \n",
              "    var url = URL.createObjectURL(e.data);\n",
              "    var preview = document.createElement('audio');\n",
              "    preview.controls = true;\n",
              "    preview.src = url;\n",
              "    document.body.appendChild(preview);\n",
              "\n",
              "    reader = new FileReader();\n",
              "    reader.readAsDataURL(e.data); \n",
              "    reader.onloadend = function() {\n",
              "      base64data = reader.result;\n",
              "      //console.log(\"Inside FileReader:\" + base64data);\n",
              "    }\n",
              "  };\n",
              "  recorder.start();\n",
              "  };\n",
              "\n",
              "recordButton.innerText = \"Recording... press to stop\";\n",
              "\n",
              "navigator.mediaDevices.getUserMedia({audio: true}).then(handleSuccess);\n",
              "\n",
              "\n",
              "function toggleRecording() {\n",
              "  if (recorder && recorder.state == \"recording\") {\n",
              "      recorder.stop();\n",
              "      gumStream.getAudioTracks()[0].stop();\n",
              "      recordButton.innerText = \"Saving the recording... pls wait!\"\n",
              "  }\n",
              "}\n",
              "\n",
              "// https://stackoverflow.com/a/951057\n",
              "function sleep(ms) {\n",
              "  return new Promise(resolve => setTimeout(resolve, ms));\n",
              "}\n",
              "\n",
              "var data = new Promise(resolve=>{\n",
              "//recordButton.addEventListener(\"click\", toggleRecording);\n",
              "recordButton.onclick = ()=>{\n",
              "toggleRecording()\n",
              "\n",
              "sleep(2000).then(() => {\n",
              "  // wait 2000ms for the data to be available...\n",
              "  // ideally this should use something like await...\n",
              "  //console.log(\"Inside data:\" + base64data)\n",
              "  resolve(base64data.toString())\n",
              "\n",
              "});\n",
              "\n",
              "}\n",
              "});\n",
              "      \n",
              "</script>\n"
            ]
          },
          "metadata": {}
        }
      ]
    },
    {
      "cell_type": "code",
      "metadata": {
        "id": "-YilAhGr6gtZ"
      },
      "source": [
        "import scipy\n",
        "scipy.io.wavfile.write('recording.wav', sr, audio)"
      ],
      "execution_count": null,
      "outputs": []
    },
    {
      "cell_type": "markdown",
      "metadata": {
        "id": "euCPDeHHhgEc"
      },
      "source": [
        "# Automatic Speech recognition with DeepSpeech"
      ]
    },
    {
      "cell_type": "code",
      "metadata": {
        "id": "wEJ5-9218LK9"
      },
      "source": [
        "import os\n",
        "from os.path import exists, join, basename, splitext\n",
        "\n",
        "if not exists('deepspeech-0.6.1-models'):\n",
        "  !apt-get install -qq sox\n",
        "  !pip install -q deepspeech-gpu==0.6.1\n",
        "  !wget https://github.com/mozilla/DeepSpeech/releases/download/v0.6.1/deepspeech-0.6.1-models.tar.gz\n",
        "  !tar xvfz deepspeech-0.6.1-models.tar.gz"
      ],
      "execution_count": null,
      "outputs": []
    },
    {
      "cell_type": "code",
      "source": [
        "!deepspeech --model deepspeech-0.6.1-models/output_graph.pbmm --lm deepspeech-0.6.1-models/lm.binary --trie deepspeech-0.6.1-models/trie --audio recording.wav > output.txt"
      ],
      "metadata": {
        "id": "8TjYL52YZ8M8",
        "outputId": "69316e6d-4b98-4636-e5cb-1867d7946077",
        "colab": {
          "base_uri": "https://localhost:8080/"
        }
      },
      "execution_count": null,
      "outputs": [
        {
          "output_type": "stream",
          "name": "stdout",
          "text": [
            "Loading model from file deepspeech-0.6.1-models/output_graph.pbmm\n",
            "TensorFlow: v1.14.0-21-ge77504a\n",
            "DeepSpeech: v0.6.1-0-g3df20fe\n",
            "2022-05-03 15:14:35.619505: I tensorflow/core/platform/cpu_feature_guard.cc:142] Your CPU supports instructions that this TensorFlow binary was not compiled to use: AVX2 FMA\n",
            "2022-05-03 15:14:35.620472: I tensorflow/stream_executor/platform/default/dso_loader.cc:42] Successfully opened dynamic library libcuda.so.1\n",
            "2022-05-03 15:14:35.649773: I tensorflow/stream_executor/cuda/cuda_gpu_executor.cc:1005] successful NUMA node read from SysFS had negative value (-1), but there must be at least one NUMA node, so returning NUMA node zero\n",
            "2022-05-03 15:14:35.650337: I tensorflow/core/common_runtime/gpu/gpu_device.cc:1640] Found device 0 with properties: \n",
            "name: Tesla T4 major: 7 minor: 5 memoryClockRate(GHz): 1.59\n",
            "pciBusID: 0000:00:04.0\n",
            "2022-05-03 15:14:35.650358: I tensorflow/stream_executor/platform/default/dlopen_checker_stub.cc:25] GPU libraries are statically linked, skip dlopen check.\n",
            "2022-05-03 15:14:35.650438: I tensorflow/stream_executor/cuda/cuda_gpu_executor.cc:1005] successful NUMA node read from SysFS had negative value (-1), but there must be at least one NUMA node, so returning NUMA node zero\n",
            "2022-05-03 15:14:35.650975: I tensorflow/stream_executor/cuda/cuda_gpu_executor.cc:1005] successful NUMA node read from SysFS had negative value (-1), but there must be at least one NUMA node, so returning NUMA node zero\n",
            "2022-05-03 15:14:35.651492: I tensorflow/core/common_runtime/gpu/gpu_device.cc:1763] Adding visible gpu devices: 0\n",
            "2022-05-03 15:14:36.046776: I tensorflow/core/common_runtime/gpu/gpu_device.cc:1181] Device interconnect StreamExecutor with strength 1 edge matrix:\n",
            "2022-05-03 15:14:36.046825: I tensorflow/core/common_runtime/gpu/gpu_device.cc:1187]      0 \n",
            "2022-05-03 15:14:36.046838: I tensorflow/core/common_runtime/gpu/gpu_device.cc:1200] 0:   N \n",
            "2022-05-03 15:14:36.046962: I tensorflow/stream_executor/cuda/cuda_gpu_executor.cc:1005] successful NUMA node read from SysFS had negative value (-1), but there must be at least one NUMA node, so returning NUMA node zero\n",
            "2022-05-03 15:14:36.047563: I tensorflow/stream_executor/cuda/cuda_gpu_executor.cc:1005] successful NUMA node read from SysFS had negative value (-1), but there must be at least one NUMA node, so returning NUMA node zero\n",
            "2022-05-03 15:14:36.048124: I tensorflow/stream_executor/cuda/cuda_gpu_executor.cc:1005] successful NUMA node read from SysFS had negative value (-1), but there must be at least one NUMA node, so returning NUMA node zero\n",
            "2022-05-03 15:14:36.048637: W tensorflow/core/common_runtime/gpu/gpu_bfc_allocator.cc:40] Overriding allow_growth setting because the TF_FORCE_GPU_ALLOW_GROWTH environment variable is set. Original config value was 0.\n",
            "2022-05-03 15:14:36.048684: I tensorflow/core/common_runtime/gpu/gpu_device.cc:1326] Created TensorFlow device (/job:localhost/replica:0/task:0/device:GPU:0 with 14228 MB memory) -> physical GPU (device: 0, name: Tesla T4, pci bus id: 0000:00:04.0, compute capability: 7.5)\n",
            "Loaded model in 0.439s.\n",
            "Loading language model from files deepspeech-0.6.1-models/lm.binary deepspeech-0.6.1-models/trie\n",
            "Loaded language model in 0.000208s.\n",
            "Warning: original sample rate (48000) is different than 16000hz. Resampling might produce erratic speech recognition.\n",
            "Running inference.\n",
            "Inference took 0.743s for 6.660s audio file.\n"
          ]
        }
      ]
    },
    {
      "cell_type": "code",
      "source": [
        "from IPython.display import Audio, display\n",
        "\n",
        "with open('output.txt') as f:\n",
        "    content = f.read()\n",
        "    if 'friend' in content:\n",
        "      display(Audio('hello.wav', autoplay=True))\n",
        "    else:\n",
        "      display(Audio('bye.mp3', autoplay=True))\n",
        "    print(content)"
      ],
      "metadata": {
        "id": "QTJVp0B3b1kK",
        "outputId": "2acc3b02-40a3-4a70-9a33-ddd3421f19bf",
        "colab": {
          "base_uri": "https://localhost:8080/",
          "height": 110
        }
      },
      "execution_count": null,
      "outputs": [
        {
          "output_type": "display_data",
          "data": {
            "text/plain": [
              "<IPython.lib.display.Audio object>"
            ],
            "text/html": [
              "\n",
              "                <audio controls=\"controls\" autoplay=\"autoplay\">\n",
              "                    <source src=\"data:audio/mpeg;base64,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\" type=\"audio/mpeg\" />\n",
              "                    Your browser does not support the audio element.\n",
              "                </audio>\n",
              "              "
            ]
          },
          "metadata": {}
        },
        {
          "output_type": "stream",
          "name": "stdout",
          "text": [
            "by\n",
            "\n"
          ]
        }
      ]
    }
  ]
}